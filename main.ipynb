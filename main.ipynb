{
 "cells": [
  {
   "cell_type": "code",
   "execution_count": 1,
   "id": "3f2f44c6",
   "metadata": {
    "scrolled": false
   },
   "outputs": [],
   "source": [
    "import pandas as pd\n",
    "import tqdm.auto as tqdm\n",
    "import time\n",
    "\n",
    "## select translator and language\n",
    "if True:\n",
    "    from deep_translator import GoogleTranslator\n",
    "    translate = GoogleTranslator(source='en', target='ko').translate\n",
    "else:\n",
    "    import dl_translate as dlt\n",
    "    from functools import partial\n",
    "    translate = partial(dlt.TranslationModel().translate, source=dlt.lang.ENGLISH, target=dlt.lang.KOREAN)"
   ]
  },
  {
   "cell_type": "code",
   "execution_count": 2,
   "id": "1fb16886",
   "metadata": {},
   "outputs": [
    {
     "data": {
      "text/plain": [
       "'마음의 인장'"
      ]
     },
     "execution_count": 2,
     "metadata": {},
     "output_type": "execute_result"
    }
   ],
   "source": [
    "translate(\"Sigil Of The Heart\")"
   ]
  },
  {
   "cell_type": "code",
   "execution_count": 3,
   "id": "c3c7607e",
   "metadata": {},
   "outputs": [
    {
     "data": {
      "text/html": [
       "<div>\n",
       "<style scoped>\n",
       "    .dataframe tbody tr th:only-of-type {\n",
       "        vertical-align: middle;\n",
       "    }\n",
       "\n",
       "    .dataframe tbody tr th {\n",
       "        vertical-align: top;\n",
       "    }\n",
       "\n",
       "    .dataframe thead th {\n",
       "        text-align: right;\n",
       "    }\n",
       "</style>\n",
       "<table border=\"1\" class=\"dataframe\">\n",
       "  <thead>\n",
       "    <tr style=\"text-align: right;\">\n",
       "      <th></th>\n",
       "      <th>id</th>\n",
       "      <th>value</th>\n",
       "      <th>translated</th>\n",
       "    </tr>\n",
       "  </thead>\n",
       "  <tbody>\n",
       "    <tr>\n",
       "      <th>0</th>\n",
       "      <td>Death Trash Language File</td>\n",
       "      <td>NaN</td>\n",
       "      <td>None</td>\n",
       "    </tr>\n",
       "    <tr>\n",
       "      <th>1</th>\n",
       "      <td>File Format Version:</td>\n",
       "      <td>1.0</td>\n",
       "      <td>None</td>\n",
       "    </tr>\n",
       "    <tr>\n",
       "      <th>2</th>\n",
       "      <td>Language Id:</td>\n",
       "      <td>NewLanguage</td>\n",
       "      <td>None</td>\n",
       "    </tr>\n",
       "    <tr>\n",
       "      <th>3</th>\n",
       "      <td>------------------------------------------</td>\n",
       "      <td>NaN</td>\n",
       "      <td>None</td>\n",
       "    </tr>\n",
       "    <tr>\n",
       "      <th>4</th>\n",
       "      <td>#NewGame:</td>\n",
       "      <td>New Game</td>\n",
       "      <td>None</td>\n",
       "    </tr>\n",
       "  </tbody>\n",
       "</table>\n",
       "</div>"
      ],
      "text/plain": [
       "                                           id        value translated\n",
       "0                   Death Trash Language File          NaN       None\n",
       "1                       File Format Version:           1.0       None\n",
       "2                                Language Id:  NewLanguage       None\n",
       "3  ------------------------------------------          NaN       None\n",
       "4                                   #NewGame:     New Game       None"
      ]
     },
     "execution_count": 3,
     "metadata": {},
     "output_type": "execute_result"
    }
   ],
   "source": [
    "df = pd.read_csv('newLanguage.tsv', delimiter='\\t', index_col=False, names=['id', 'value'])\n",
    "df_new = df.copy()\n",
    "df_new['translated']=None\n",
    "df_new.head()"
   ]
  },
  {
   "cell_type": "code",
   "execution_count": 19,
   "id": "24d3805f",
   "metadata": {},
   "outputs": [
    {
     "data": {
      "application/vnd.jupyter.widget-view+json": {
       "model_id": "43a56879a0f7458ea0b6fb9ab7edb142",
       "version_major": 2,
       "version_minor": 0
      },
      "text/plain": [
       "  0%|          | 0/1900 [00:00<?, ?it/s]"
      ]
     },
     "metadata": {},
     "output_type": "display_data"
    }
   ],
   "source": [
    "name_token=\"**forename**\"\n",
    "name_token_translated=translate(name_token)\n",
    "\n",
    "queue = []\n",
    "for i in range(len(df_new)):\n",
    "    \n",
    "    if not isinstance(df_new.loc[i].value, str):\n",
    "        continue\n",
    "    if '<' in df_new.loc[i].value:\n",
    "        continue\n",
    "    if len(df_new.loc[i].value)<2:\n",
    "        continue\n",
    "    if not df_new.loc[i].translated==None:\n",
    "        continue\n",
    "    \n",
    "    queue.append(i)\n",
    "    \n",
    "for i in tqdm.tqdm(queue):\n",
    "\n",
    "    sequence = df_new.loc[i].value\n",
    "\n",
    "    isDialogueItem = sequence[0] == '[' and sequence[-1] == ']' \n",
    "    \n",
    "    if isDialogueItem:\n",
    "        sequence = sequence[1:-1]\n",
    "        \n",
    "    try:\n",
    "        translated = translate(sequence)\n",
    "    except:\n",
    "        continue\n",
    "    \n",
    "    try:\n",
    "        translated = translated.replace(name_token_translated, name_token)\n",
    "        ## Add original sequence\n",
    "        translated = '{}({})'.format(translated, sequence)\n",
    "    except:\n",
    "        translated = sequence\n",
    "        \n",
    "    if isDialogueItem:\n",
    "        translated = \"[{}]\".format(translated)\n",
    "        \n",
    "    df_new.loc[i].translated = translated\n",
    "    time.sleep(0.1)\n",
    "        "
   ]
  },
  {
   "cell_type": "code",
   "execution_count": 20,
   "id": "f4a55f42",
   "metadata": {},
   "outputs": [],
   "source": [
    "df_new.to_csv('newLanguage_translated.tsv', index=None, sep='\\t', header=None)"
   ]
  },
  {
   "cell_type": "code",
   "execution_count": null,
   "id": "a659d0f9",
   "metadata": {},
   "outputs": [],
   "source": []
  }
 ],
 "metadata": {
  "kernelspec": {
   "display_name": "Python 3 (ipykernel)",
   "language": "python",
   "name": "python3"
  },
  "language_info": {
   "codemirror_mode": {
    "name": "ipython",
    "version": 3
   },
   "file_extension": ".py",
   "mimetype": "text/x-python",
   "name": "python",
   "nbconvert_exporter": "python",
   "pygments_lexer": "ipython3",
   "version": "3.10.7"
  }
 },
 "nbformat": 4,
 "nbformat_minor": 5
}
